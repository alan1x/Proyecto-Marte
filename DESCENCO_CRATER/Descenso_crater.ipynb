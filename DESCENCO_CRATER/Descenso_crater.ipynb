{
 "cells": [
  {
   "cell_type": "code",
   "execution_count": 2,
   "metadata": {},
   "outputs": [
    {
     "ename": "FileNotFoundError",
     "evalue": "[Errno 2] No such file or directory: '../Datos/crater_map.npy'",
     "output_type": "error",
     "traceback": [
      "\u001b[0;31m---------------------------------------------------------------------------\u001b[0m",
      "\u001b[0;31mFileNotFoundError\u001b[0m                         Traceback (most recent call last)",
      "Cell \u001b[0;32mIn[2], line 6\u001b[0m\n\u001b[1;32m      3\u001b[0m \u001b[38;5;28;01mimport\u001b[39;00m\u001b[38;5;250m \u001b[39m\u001b[38;5;21;01mnumpy\u001b[39;00m\u001b[38;5;250m \u001b[39m\u001b[38;5;28;01mas\u001b[39;00m\u001b[38;5;250m \u001b[39m\u001b[38;5;21;01mnp\u001b[39;00m\n\u001b[1;32m      5\u001b[0m \u001b[38;5;66;03m# ===== CARGA DEL MAPA DEL CRÁTER =====\u001b[39;00m\n\u001b[0;32m----> 6\u001b[0m crater_map \u001b[38;5;241m=\u001b[39m \u001b[43mnp\u001b[49m\u001b[38;5;241;43m.\u001b[39;49m\u001b[43mload\u001b[49m\u001b[43m(\u001b[49m\u001b[38;5;124;43m'\u001b[39;49m\u001b[38;5;124;43m../Datos/crater_map.npy\u001b[39;49m\u001b[38;5;124;43m'\u001b[39;49m\u001b[43m)\u001b[49m  \u001b[38;5;66;03m# Cargar datos del cráter\u001b[39;00m\n\u001b[1;32m      7\u001b[0m nr, nc \u001b[38;5;241m=\u001b[39m crater_map\u001b[38;5;241m.\u001b[39mshape  \u001b[38;5;66;03m# Obtener dimensiones de la matriz\u001b[39;00m\n\u001b[1;32m      8\u001b[0m scale \u001b[38;5;241m=\u001b[39m \u001b[38;5;241m10.045\u001b[39m  \u001b[38;5;66;03m# Escala de los datos\u001b[39;00m\n",
      "File \u001b[0;32m~/anaconda3/envs/IDM4SEM/lib/python3.11/site-packages/numpy/lib/_npyio_impl.py:451\u001b[0m, in \u001b[0;36mload\u001b[0;34m(file, mmap_mode, allow_pickle, fix_imports, encoding, max_header_size)\u001b[0m\n\u001b[1;32m    449\u001b[0m     own_fid \u001b[38;5;241m=\u001b[39m \u001b[38;5;28;01mFalse\u001b[39;00m\n\u001b[1;32m    450\u001b[0m \u001b[38;5;28;01melse\u001b[39;00m:\n\u001b[0;32m--> 451\u001b[0m     fid \u001b[38;5;241m=\u001b[39m stack\u001b[38;5;241m.\u001b[39menter_context(\u001b[38;5;28;43mopen\u001b[39;49m\u001b[43m(\u001b[49m\u001b[43mos\u001b[49m\u001b[38;5;241;43m.\u001b[39;49m\u001b[43mfspath\u001b[49m\u001b[43m(\u001b[49m\u001b[43mfile\u001b[49m\u001b[43m)\u001b[49m\u001b[43m,\u001b[49m\u001b[43m \u001b[49m\u001b[38;5;124;43m\"\u001b[39;49m\u001b[38;5;124;43mrb\u001b[39;49m\u001b[38;5;124;43m\"\u001b[39;49m\u001b[43m)\u001b[49m)\n\u001b[1;32m    452\u001b[0m     own_fid \u001b[38;5;241m=\u001b[39m \u001b[38;5;28;01mTrue\u001b[39;00m\n\u001b[1;32m    454\u001b[0m \u001b[38;5;66;03m# Code to distinguish from NumPy binary files and pickles.\u001b[39;00m\n",
      "\u001b[0;31mFileNotFoundError\u001b[0m: [Errno 2] No such file or directory: '../Datos/crater_map.npy'"
     ]
    }
   ],
   "source": [
    "# ===== IMPORTACIÓN DE MÓDULOS =====\n",
    "from funciones2 import *  # Importa todas las funciones de tu archivo\n",
    "import numpy as np\n",
    "\n",
    "# ===== CARGA DEL MAPA DEL CRÁTER =====\n",
    "crater_map = np.load('../Datos/crater_map.npy')  # Cargar datos del cráter\n",
    "nr, nc = crater_map.shape  # Obtener dimensiones de la matriz\n",
    "scale = 10.045  # Escala de los datos\n",
    "\n",
    "# ===== VISUALIZACIÓN DEL MAPA =====\n",
    "imagen_simple(crater_map, nc, nr, scale)  # Muestra el cráter\n",
    "\n",
    "# ===== IMPLEMENTACIÓN DEL ALGORITMO DE BÚSQUEDA CODICIOSA =====\n",
    "def busqueda_codiciosa(crater_map, start_pos):\n",
    "    \"\"\"\n",
    "    Implementa la búsqueda voraz (codiciosa) para encontrar el camino descendente en un cráter marciano.\n",
    "\n",
    "    Parámetros:\n",
    "    - crater_map: Matriz numpy con los valores de altura del terreno.\n",
    "    - start_pos: Tupla (x, y) con la posición inicial del explorador.\n",
    "\n",
    "    Retorna:\n",
    "    - Lista con el camino seguido por el explorador.\n",
    "    \"\"\"\n",
    "    # Movimientos posibles: 8 direcciones (arriba, abajo, izquierda, derecha y diagonales)\n",
    "    direcciones = [(-1, -1), (-1, 0), (-1, 1), (0, -1), (0, 1), (1, -1), (1, 0), (1, 1)]\n",
    "    \n",
    "    x, y = start_pos\n",
    "    camino = [(x, y)]  # Guardamos el camino recorrido\n",
    "    \n",
    "    while True:\n",
    "        mejor_vecino = None\n",
    "        mejor_profundidad = altura_nodo(crater_map, (x, y))  # Altura actual\n",
    "\n",
    "        # Evaluar vecinos\n",
    "        for dx, dy in direcciones:\n",
    "            nx, ny = x + dx, y + dy\n",
    "            if 0 <= nx < crater_map.shape[0] and 0 <= ny < crater_map.shape[1]:  # Verificar límites\n",
    "                if diferencia_altura2(crater_map, (x, y), (nx, ny)):  # Respetar restricción de altura\n",
    "                    profundidad_vecino = altura_nodo(crater_map, (nx, ny))\n",
    "                    \n",
    "                    # Elegir el píxel con menor profundidad\n",
    "                    if profundidad_vecino < mejor_profundidad:\n",
    "                        mejor_profundidad = profundidad_vecino\n",
    "                        mejor_vecino = (nx, ny)\n",
    "\n",
    "        # Si no hay una mejor opción, detenerse\n",
    "        if mejor_vecino is None:\n",
    "            break\n",
    "        \n",
    "        # Mover al mejor vecino encontrado\n",
    "        x, y = mejor_vecino\n",
    "        camino.append((x, y))\n",
    "    \n",
    "    return camino\n",
    "\n",
    "# ===== PRUEBA DEL ALGORITMO =====\n",
    "start_pos = (3350, 5800)  # Posición inicial del explorador\n",
    "camino_explorador = busqueda_codiciosa(crater_map, start_pos)\n",
    "\n",
    "print(\"Camino recorrido:\", camino_explorador)\n",
    "\n",
    "# ===== VISUALIZACIÓN DEL RECORRIDO =====\n",
    "imagen2(camino_explorador, start_pos, crater_map, nc, nr, scale)\n",
    "\n"
   ]
  },
  {
   "cell_type": "code",
   "execution_count": 3,
   "metadata": {},
   "outputs": [
    {
     "name": "stdout",
     "output_type": "stream",
     "text": [
      "Archivo no encontrado\n"
     ]
    }
   ],
   "source": [
    "import os\n",
    "\n",
    "def buscar_archivo(nombre_archivo, directorio_base=\".\"):\n",
    "    for raiz, dirs, archivos in os.walk(directorio_base):\n",
    "        if nombre_archivo in archivos:\n",
    "            return os.path.join(raiz, nombre_archivo)\n",
    "    return None\n",
    "\n",
    "ruta_real = buscar_archivo(\"crater_map.npy\", \"/\")  # Cambia \"/\" por la carpeta donde crees que está\n",
    "\n",
    "if ruta_real:\n",
    "    print(\"Archivo encontrado en:\", ruta_real)\n",
    "else:\n",
    "    print(\"Archivo no encontrado\")"
   ]
  },
  {
   "cell_type": "code",
   "execution_count": 4,
   "metadata": {},
   "outputs": [
    {
     "ename": "ModuleNotFoundError",
     "evalue": "No module named 'osgeo'",
     "output_type": "error",
     "traceback": [
      "\u001b[0;31m---------------------------------------------------------------------------\u001b[0m",
      "\u001b[0;31mModuleNotFoundError\u001b[0m                       Traceback (most recent call last)",
      "Cell \u001b[0;32mIn[4], line 1\u001b[0m\n\u001b[0;32m----> 1\u001b[0m \u001b[38;5;28;01mfrom\u001b[39;00m\u001b[38;5;250m \u001b[39m\u001b[38;5;21;01mosgeo\u001b[39;00m\u001b[38;5;250m \u001b[39m\u001b[38;5;28;01mimport\u001b[39;00m gdal\n\u001b[1;32m      2\u001b[0m \u001b[38;5;28;01mimport\u001b[39;00m\u001b[38;5;250m \u001b[39m\u001b[38;5;21;01mnumpy\u001b[39;00m\u001b[38;5;250m \u001b[39m\u001b[38;5;28;01mas\u001b[39;00m\u001b[38;5;250m \u001b[39m\u001b[38;5;21;01mnp\u001b[39;00m\n\u001b[1;32m      4\u001b[0m \u001b[38;5;66;03m# Cargar el archivo IMG\u001b[39;00m\n",
      "\u001b[0;31mModuleNotFoundError\u001b[0m: No module named 'osgeo'"
     ]
    }
   ],
   "source": [
    "from osgeo import gdal\n",
    "import numpy as np\n",
    "\n",
    "# Cargar el archivo IMG\n",
    "archivo_img = \"crater_map.IMG\"  # Cambia la ruta si está en otra carpeta\n",
    "dataset = gdal.Open(archivo_img)\n",
    "\n",
    "if dataset is None:\n",
    "    print(\"Error: No se pudo abrir el archivo.\")\n",
    "else:\n",
    "    # Leer la banda de datos\n",
    "    band = dataset.GetRasterBand(1)  # Suponemos que hay una sola banda\n",
    "    crater_map = band.ReadAsArray()  # Convertir a un array de NumPy\n",
    "\n",
    "    # Guardar como .npy para futuros usos\n",
    "    np.save(\"crater_map.npy\", crater_map)\n",
    "    print(\"Archivo convertido y guardado como crater_map.npy\")\n",
    "\n",
    "    # Mostrar dimensiones del mapa\n",
    "    print(\"Dimensiones de la matriz:\", crater_map.shape)\n"
   ]
  }
 ],
 "metadata": {
  "kernelspec": {
   "display_name": "IDM4SEM",
   "language": "python",
   "name": "python3"
  },
  "language_info": {
   "codemirror_mode": {
    "name": "ipython",
    "version": 3
   },
   "file_extension": ".py",
   "mimetype": "text/x-python",
   "name": "python",
   "nbconvert_exporter": "python",
   "pygments_lexer": "ipython3",
   "version": "3.11.11"
  }
 },
 "nbformat": 4,
 "nbformat_minor": 2
}
